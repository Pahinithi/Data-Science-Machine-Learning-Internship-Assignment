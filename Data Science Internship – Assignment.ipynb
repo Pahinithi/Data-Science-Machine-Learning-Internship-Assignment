{
 "cells": [
  {
   "cell_type": "code",
   "execution_count": 1,
   "id": "5ab1cfff",
   "metadata": {},
   "outputs": [],
   "source": [
    "import pandas as pd\n",
    "# Load the dataset\n",
    "item = pd.read_csv(\"item.csv\")\n",
    "promotion = pd.read_csv(\"promotion.csv\")\n",
    "sales = pd.read_csv(\"sales.csv\")\n",
    "supermarkets = pd.read_csv(\"supermarkets.csv\")"
   ]
  },
  {
   "cell_type": "markdown",
   "id": "19739ddb",
   "metadata": {},
   "source": [
    "# item dataset"
   ]
  },
  {
   "cell_type": "code",
   "execution_count": 2,
   "id": "e74975ac",
   "metadata": {},
   "outputs": [
    {
     "data": {
      "text/html": [
       "<div>\n",
       "<style scoped>\n",
       "    .dataframe tbody tr th:only-of-type {\n",
       "        vertical-align: middle;\n",
       "    }\n",
       "\n",
       "    .dataframe tbody tr th {\n",
       "        vertical-align: top;\n",
       "    }\n",
       "\n",
       "    .dataframe thead th {\n",
       "        text-align: right;\n",
       "    }\n",
       "</style>\n",
       "<table border=\"1\" class=\"dataframe\">\n",
       "  <thead>\n",
       "    <tr style=\"text-align: right;\">\n",
       "      <th></th>\n",
       "      <th>code</th>\n",
       "      <th>descrption</th>\n",
       "      <th>type</th>\n",
       "      <th>brand</th>\n",
       "      <th>size</th>\n",
       "    </tr>\n",
       "  </thead>\n",
       "  <tbody>\n",
       "    <tr>\n",
       "      <th>0</th>\n",
       "      <td>3000005040</td>\n",
       "      <td>AUNT JEM ORIGINAL PANCAKE MIX</td>\n",
       "      <td>Type 1</td>\n",
       "      <td>Aunt Jemima</td>\n",
       "      <td>2 LB</td>\n",
       "    </tr>\n",
       "    <tr>\n",
       "      <th>1</th>\n",
       "      <td>3000005070</td>\n",
       "      <td>A/JEM COMPLETE PANCAKE MI</td>\n",
       "      <td>Type 1</td>\n",
       "      <td>Aunt Jemima</td>\n",
       "      <td>32    OZ</td>\n",
       "    </tr>\n",
       "    <tr>\n",
       "      <th>2</th>\n",
       "      <td>3000005300</td>\n",
       "      <td>AJ BUTTERMILK PANCAKE MIX</td>\n",
       "      <td>Type 1</td>\n",
       "      <td>Aunt Jemima</td>\n",
       "      <td>32 OZ</td>\n",
       "    </tr>\n",
       "    <tr>\n",
       "      <th>3</th>\n",
       "      <td>3000005350</td>\n",
       "      <td>A J BTRMLK COMP PNCK MIX</td>\n",
       "      <td>Type 1</td>\n",
       "      <td>Aunt Jemima</td>\n",
       "      <td>1 LB</td>\n",
       "    </tr>\n",
       "    <tr>\n",
       "      <th>4</th>\n",
       "      <td>1600015760</td>\n",
       "      <td>BC PANCAKE MIX BUTTERMILK</td>\n",
       "      <td>Type 1</td>\n",
       "      <td>Bisquick</td>\n",
       "      <td>6.75 OZ</td>\n",
       "    </tr>\n",
       "  </tbody>\n",
       "</table>\n",
       "</div>"
      ],
      "text/plain": [
       "         code                     descrption    type        brand      size\n",
       "0  3000005040  AUNT JEM ORIGINAL PANCAKE MIX  Type 1  Aunt Jemima      2 LB\n",
       "1  3000005070      A/JEM COMPLETE PANCAKE MI  Type 1  Aunt Jemima  32    OZ\n",
       "2  3000005300      AJ BUTTERMILK PANCAKE MIX  Type 1  Aunt Jemima     32 OZ\n",
       "3  3000005350       A J BTRMLK COMP PNCK MIX  Type 1  Aunt Jemima      1 LB\n",
       "4  1600015760      BC PANCAKE MIX BUTTERMILK  Type 1     Bisquick   6.75 OZ"
      ]
     },
     "execution_count": 2,
     "metadata": {},
     "output_type": "execute_result"
    }
   ],
   "source": [
    "item.head()"
   ]
  },
  {
   "cell_type": "code",
   "execution_count": 3,
   "id": "b50f77fd",
   "metadata": {},
   "outputs": [
    {
     "data": {
      "text/plain": [
       "(927, 5)"
      ]
     },
     "execution_count": 3,
     "metadata": {},
     "output_type": "execute_result"
    }
   ],
   "source": [
    "# Display the shape of the DataFrame (rows, columns)\n",
    "item.shape"
   ]
  },
  {
   "cell_type": "code",
   "execution_count": 4,
   "id": "efb76f55",
   "metadata": {},
   "outputs": [
    {
     "data": {
      "text/plain": [
       "code          0\n",
       "descrption    0\n",
       "type          0\n",
       "brand         0\n",
       "size          0\n",
       "dtype: int64"
      ]
     },
     "execution_count": 4,
     "metadata": {},
     "output_type": "execute_result"
    }
   ],
   "source": [
    "#check null value\n",
    "item.isnull().sum()"
   ]
  },
  {
   "cell_type": "code",
   "execution_count": 5,
   "id": "6d0d97ea",
   "metadata": {},
   "outputs": [
    {
     "name": "stdout",
     "output_type": "stream",
     "text": [
      "<class 'pandas.core.frame.DataFrame'>\n",
      "RangeIndex: 927 entries, 0 to 926\n",
      "Data columns (total 5 columns):\n",
      " #   Column      Non-Null Count  Dtype \n",
      "---  ------      --------------  ----- \n",
      " 0   code        927 non-null    int64 \n",
      " 1   descrption  927 non-null    object\n",
      " 2   type        927 non-null    object\n",
      " 3   brand       927 non-null    object\n",
      " 4   size        927 non-null    object\n",
      "dtypes: int64(1), object(4)\n",
      "memory usage: 36.3+ KB\n"
     ]
    }
   ],
   "source": [
    "item.info()"
   ]
  },
  {
   "cell_type": "code",
   "execution_count": null,
   "id": "8da56bc8",
   "metadata": {},
   "outputs": [],
   "source": []
  },
  {
   "cell_type": "markdown",
   "id": "eb3e22bb",
   "metadata": {},
   "source": [
    "# promotion dataset"
   ]
  },
  {
   "cell_type": "code",
   "execution_count": 6,
   "id": "d32bcbf5",
   "metadata": {},
   "outputs": [
    {
     "data": {
      "text/html": [
       "<div>\n",
       "<style scoped>\n",
       "    .dataframe tbody tr th:only-of-type {\n",
       "        vertical-align: middle;\n",
       "    }\n",
       "\n",
       "    .dataframe tbody tr th {\n",
       "        vertical-align: top;\n",
       "    }\n",
       "\n",
       "    .dataframe thead th {\n",
       "        text-align: right;\n",
       "    }\n",
       "</style>\n",
       "<table border=\"1\" class=\"dataframe\">\n",
       "  <thead>\n",
       "    <tr style=\"text-align: right;\">\n",
       "      <th></th>\n",
       "      <th>code</th>\n",
       "      <th>supermarkets</th>\n",
       "      <th>week</th>\n",
       "      <th>feature</th>\n",
       "      <th>display</th>\n",
       "      <th>province</th>\n",
       "    </tr>\n",
       "  </thead>\n",
       "  <tbody>\n",
       "    <tr>\n",
       "      <th>0</th>\n",
       "      <td>2700042240</td>\n",
       "      <td>285</td>\n",
       "      <td>91</td>\n",
       "      <td>Not on Feature</td>\n",
       "      <td>Mid-Aisle End Cap</td>\n",
       "      <td>2</td>\n",
       "    </tr>\n",
       "    <tr>\n",
       "      <th>1</th>\n",
       "      <td>2700042292</td>\n",
       "      <td>285</td>\n",
       "      <td>92</td>\n",
       "      <td>Interior Page Feature</td>\n",
       "      <td>Not on Display</td>\n",
       "      <td>2</td>\n",
       "    </tr>\n",
       "    <tr>\n",
       "      <th>2</th>\n",
       "      <td>2700042274</td>\n",
       "      <td>285</td>\n",
       "      <td>92</td>\n",
       "      <td>Interior Page Feature</td>\n",
       "      <td>Not on Display</td>\n",
       "      <td>2</td>\n",
       "    </tr>\n",
       "    <tr>\n",
       "      <th>3</th>\n",
       "      <td>2700042273</td>\n",
       "      <td>285</td>\n",
       "      <td>92</td>\n",
       "      <td>Interior Page Feature</td>\n",
       "      <td>Not on Display</td>\n",
       "      <td>2</td>\n",
       "    </tr>\n",
       "    <tr>\n",
       "      <th>4</th>\n",
       "      <td>2700042254</td>\n",
       "      <td>285</td>\n",
       "      <td>92</td>\n",
       "      <td>Interior Page Feature</td>\n",
       "      <td>Not on Display</td>\n",
       "      <td>2</td>\n",
       "    </tr>\n",
       "  </tbody>\n",
       "</table>\n",
       "</div>"
      ],
      "text/plain": [
       "         code  supermarkets  week                feature            display  \\\n",
       "0  2700042240           285    91         Not on Feature  Mid-Aisle End Cap   \n",
       "1  2700042292           285    92  Interior Page Feature     Not on Display   \n",
       "2  2700042274           285    92  Interior Page Feature     Not on Display   \n",
       "3  2700042273           285    92  Interior Page Feature     Not on Display   \n",
       "4  2700042254           285    92  Interior Page Feature     Not on Display   \n",
       "\n",
       "   province  \n",
       "0         2  \n",
       "1         2  \n",
       "2         2  \n",
       "3         2  \n",
       "4         2  "
      ]
     },
     "execution_count": 6,
     "metadata": {},
     "output_type": "execute_result"
    }
   ],
   "source": [
    "promotion.head()"
   ]
  },
  {
   "cell_type": "code",
   "execution_count": 7,
   "id": "ae2f15b0",
   "metadata": {},
   "outputs": [
    {
     "data": {
      "text/plain": [
       "(351372, 6)"
      ]
     },
     "execution_count": 7,
     "metadata": {},
     "output_type": "execute_result"
    }
   ],
   "source": [
    "# Display the shape of the DataFrame (rows, columns)\n",
    "promotion.shape"
   ]
  },
  {
   "cell_type": "code",
   "execution_count": 8,
   "id": "9f0c39b3",
   "metadata": {},
   "outputs": [
    {
     "data": {
      "text/plain": [
       "code            0\n",
       "supermarkets    0\n",
       "week            0\n",
       "feature         0\n",
       "display         0\n",
       "province        0\n",
       "dtype: int64"
      ]
     },
     "execution_count": 8,
     "metadata": {},
     "output_type": "execute_result"
    }
   ],
   "source": [
    "#check null value\n",
    "promotion.isnull().sum()"
   ]
  },
  {
   "cell_type": "code",
   "execution_count": 9,
   "id": "442cda05",
   "metadata": {},
   "outputs": [
    {
     "name": "stdout",
     "output_type": "stream",
     "text": [
      "<class 'pandas.core.frame.DataFrame'>\n",
      "RangeIndex: 351372 entries, 0 to 351371\n",
      "Data columns (total 6 columns):\n",
      " #   Column        Non-Null Count   Dtype \n",
      "---  ------        --------------   ----- \n",
      " 0   code          351372 non-null  int64 \n",
      " 1   supermarkets  351372 non-null  int64 \n",
      " 2   week          351372 non-null  int64 \n",
      " 3   feature       351372 non-null  object\n",
      " 4   display       351372 non-null  object\n",
      " 5   province      351372 non-null  int64 \n",
      "dtypes: int64(4), object(2)\n",
      "memory usage: 16.1+ MB\n"
     ]
    }
   ],
   "source": [
    "promotion.info()"
   ]
  },
  {
   "cell_type": "code",
   "execution_count": null,
   "id": "882c682c",
   "metadata": {},
   "outputs": [],
   "source": []
  },
  {
   "cell_type": "markdown",
   "id": "3fbeed51",
   "metadata": {},
   "source": [
    "# sales dataset"
   ]
  },
  {
   "cell_type": "code",
   "execution_count": 10,
   "id": "202583a9",
   "metadata": {},
   "outputs": [
    {
     "data": {
      "text/html": [
       "<div>\n",
       "<style scoped>\n",
       "    .dataframe tbody tr th:only-of-type {\n",
       "        vertical-align: middle;\n",
       "    }\n",
       "\n",
       "    .dataframe tbody tr th {\n",
       "        vertical-align: top;\n",
       "    }\n",
       "\n",
       "    .dataframe thead th {\n",
       "        text-align: right;\n",
       "    }\n",
       "</style>\n",
       "<table border=\"1\" class=\"dataframe\">\n",
       "  <thead>\n",
       "    <tr style=\"text-align: right;\">\n",
       "      <th></th>\n",
       "      <th>code</th>\n",
       "      <th>amount</th>\n",
       "      <th>units</th>\n",
       "      <th>time</th>\n",
       "      <th>province</th>\n",
       "      <th>week</th>\n",
       "      <th>customerId</th>\n",
       "      <th>supermarket</th>\n",
       "      <th>basket</th>\n",
       "      <th>day</th>\n",
       "      <th>voucher</th>\n",
       "    </tr>\n",
       "  </thead>\n",
       "  <tbody>\n",
       "    <tr>\n",
       "      <th>0</th>\n",
       "      <td>7680850106</td>\n",
       "      <td>0.80</td>\n",
       "      <td>1</td>\n",
       "      <td>1100</td>\n",
       "      <td>2</td>\n",
       "      <td>1</td>\n",
       "      <td>125434</td>\n",
       "      <td>244</td>\n",
       "      <td>1</td>\n",
       "      <td>1</td>\n",
       "      <td>0</td>\n",
       "    </tr>\n",
       "    <tr>\n",
       "      <th>1</th>\n",
       "      <td>3620000470</td>\n",
       "      <td>3.59</td>\n",
       "      <td>1</td>\n",
       "      <td>1100</td>\n",
       "      <td>2</td>\n",
       "      <td>1</td>\n",
       "      <td>125434</td>\n",
       "      <td>244</td>\n",
       "      <td>1</td>\n",
       "      <td>1</td>\n",
       "      <td>0</td>\n",
       "    </tr>\n",
       "    <tr>\n",
       "      <th>2</th>\n",
       "      <td>1800028064</td>\n",
       "      <td>2.25</td>\n",
       "      <td>1</td>\n",
       "      <td>1137</td>\n",
       "      <td>2</td>\n",
       "      <td>1</td>\n",
       "      <td>108320</td>\n",
       "      <td>244</td>\n",
       "      <td>2</td>\n",
       "      <td>1</td>\n",
       "      <td>0</td>\n",
       "    </tr>\n",
       "    <tr>\n",
       "      <th>3</th>\n",
       "      <td>9999985067</td>\n",
       "      <td>0.85</td>\n",
       "      <td>1</td>\n",
       "      <td>1148</td>\n",
       "      <td>2</td>\n",
       "      <td>1</td>\n",
       "      <td>162016</td>\n",
       "      <td>244</td>\n",
       "      <td>3</td>\n",
       "      <td>1</td>\n",
       "      <td>0</td>\n",
       "    </tr>\n",
       "    <tr>\n",
       "      <th>4</th>\n",
       "      <td>9999985131</td>\n",
       "      <td>2.19</td>\n",
       "      <td>1</td>\n",
       "      <td>1323</td>\n",
       "      <td>2</td>\n",
       "      <td>1</td>\n",
       "      <td>89437</td>\n",
       "      <td>244</td>\n",
       "      <td>4</td>\n",
       "      <td>1</td>\n",
       "      <td>0</td>\n",
       "    </tr>\n",
       "  </tbody>\n",
       "</table>\n",
       "</div>"
      ],
      "text/plain": [
       "         code  amount  units  time  province  week  customerId  supermarket  \\\n",
       "0  7680850106    0.80      1  1100         2     1      125434          244   \n",
       "1  3620000470    3.59      1  1100         2     1      125434          244   \n",
       "2  1800028064    2.25      1  1137         2     1      108320          244   \n",
       "3  9999985067    0.85      1  1148         2     1      162016          244   \n",
       "4  9999985131    2.19      1  1323         2     1       89437          244   \n",
       "\n",
       "   basket  day  voucher  \n",
       "0       1    1        0  \n",
       "1       1    1        0  \n",
       "2       2    1        0  \n",
       "3       3    1        0  \n",
       "4       4    1        0  "
      ]
     },
     "execution_count": 10,
     "metadata": {},
     "output_type": "execute_result"
    }
   ],
   "source": [
    "sales.head()"
   ]
  },
  {
   "cell_type": "code",
   "execution_count": 11,
   "id": "1f70dc32",
   "metadata": {},
   "outputs": [
    {
     "data": {
      "text/plain": [
       "(1048575, 11)"
      ]
     },
     "execution_count": 11,
     "metadata": {},
     "output_type": "execute_result"
    }
   ],
   "source": [
    "# Display the shape of the DataFrame (rows, columns)\n",
    "sales.shape"
   ]
  },
  {
   "cell_type": "code",
   "execution_count": 12,
   "id": "4cbb5ac8",
   "metadata": {},
   "outputs": [
    {
     "data": {
      "text/plain": [
       "code           0\n",
       "amount         0\n",
       "units          0\n",
       "time           0\n",
       "province       0\n",
       "week           0\n",
       "customerId     0\n",
       "supermarket    0\n",
       "basket         0\n",
       "day            0\n",
       "voucher        0\n",
       "dtype: int64"
      ]
     },
     "execution_count": 12,
     "metadata": {},
     "output_type": "execute_result"
    }
   ],
   "source": [
    "#check null value\n",
    "sales.isnull().sum()"
   ]
  },
  {
   "cell_type": "code",
   "execution_count": 13,
   "id": "736d0089",
   "metadata": {},
   "outputs": [
    {
     "name": "stdout",
     "output_type": "stream",
     "text": [
      "<class 'pandas.core.frame.DataFrame'>\n",
      "RangeIndex: 1048575 entries, 0 to 1048574\n",
      "Data columns (total 11 columns):\n",
      " #   Column       Non-Null Count    Dtype  \n",
      "---  ------       --------------    -----  \n",
      " 0   code         1048575 non-null  int64  \n",
      " 1   amount       1048575 non-null  float64\n",
      " 2   units        1048575 non-null  int64  \n",
      " 3   time         1048575 non-null  int64  \n",
      " 4   province     1048575 non-null  int64  \n",
      " 5   week         1048575 non-null  int64  \n",
      " 6   customerId   1048575 non-null  int64  \n",
      " 7   supermarket  1048575 non-null  int64  \n",
      " 8   basket       1048575 non-null  int64  \n",
      " 9   day          1048575 non-null  int64  \n",
      " 10  voucher      1048575 non-null  int64  \n",
      "dtypes: float64(1), int64(10)\n",
      "memory usage: 88.0 MB\n"
     ]
    }
   ],
   "source": [
    "sales.info()"
   ]
  },
  {
   "cell_type": "code",
   "execution_count": null,
   "id": "2d31f4d5",
   "metadata": {},
   "outputs": [],
   "source": []
  },
  {
   "cell_type": "markdown",
   "id": "53e39eb2",
   "metadata": {},
   "source": [
    "# supermarkets dataset"
   ]
  },
  {
   "cell_type": "code",
   "execution_count": 14,
   "id": "b33cbc7e",
   "metadata": {},
   "outputs": [
    {
     "data": {
      "text/html": [
       "<div>\n",
       "<style scoped>\n",
       "    .dataframe tbody tr th:only-of-type {\n",
       "        vertical-align: middle;\n",
       "    }\n",
       "\n",
       "    .dataframe tbody tr th {\n",
       "        vertical-align: top;\n",
       "    }\n",
       "\n",
       "    .dataframe thead th {\n",
       "        text-align: right;\n",
       "    }\n",
       "</style>\n",
       "<table border=\"1\" class=\"dataframe\">\n",
       "  <thead>\n",
       "    <tr style=\"text-align: right;\">\n",
       "      <th></th>\n",
       "      <th>supermarket_No</th>\n",
       "      <th>postal-code</th>\n",
       "    </tr>\n",
       "  </thead>\n",
       "  <tbody>\n",
       "    <tr>\n",
       "      <th>0</th>\n",
       "      <td>199</td>\n",
       "      <td>30319</td>\n",
       "    </tr>\n",
       "    <tr>\n",
       "      <th>1</th>\n",
       "      <td>200</td>\n",
       "      <td>30134</td>\n",
       "    </tr>\n",
       "    <tr>\n",
       "      <th>2</th>\n",
       "      <td>201</td>\n",
       "      <td>30066</td>\n",
       "    </tr>\n",
       "    <tr>\n",
       "      <th>3</th>\n",
       "      <td>202</td>\n",
       "      <td>31093</td>\n",
       "    </tr>\n",
       "    <tr>\n",
       "      <th>4</th>\n",
       "      <td>203</td>\n",
       "      <td>30542</td>\n",
       "    </tr>\n",
       "  </tbody>\n",
       "</table>\n",
       "</div>"
      ],
      "text/plain": [
       "   supermarket_No  postal-code\n",
       "0             199        30319\n",
       "1             200        30134\n",
       "2             201        30066\n",
       "3             202        31093\n",
       "4             203        30542"
      ]
     },
     "execution_count": 14,
     "metadata": {},
     "output_type": "execute_result"
    }
   ],
   "source": [
    "supermarkets.head()"
   ]
  },
  {
   "cell_type": "code",
   "execution_count": 15,
   "id": "d3a84742",
   "metadata": {},
   "outputs": [
    {
     "data": {
      "text/plain": [
       "(387, 2)"
      ]
     },
     "execution_count": 15,
     "metadata": {},
     "output_type": "execute_result"
    }
   ],
   "source": [
    "# Display the shape of the DataFrame (rows, columns)\n",
    "supermarkets.shape\n"
   ]
  },
  {
   "cell_type": "code",
   "execution_count": 16,
   "id": "7e2f44b1",
   "metadata": {},
   "outputs": [
    {
     "data": {
      "text/plain": [
       "supermarket_No    0\n",
       "postal-code       0\n",
       "dtype: int64"
      ]
     },
     "execution_count": 16,
     "metadata": {},
     "output_type": "execute_result"
    }
   ],
   "source": [
    "#check null value\n",
    "supermarkets.isnull().sum()"
   ]
  },
  {
   "cell_type": "code",
   "execution_count": 17,
   "id": "7d547538",
   "metadata": {},
   "outputs": [
    {
     "name": "stdout",
     "output_type": "stream",
     "text": [
      "<class 'pandas.core.frame.DataFrame'>\n",
      "RangeIndex: 387 entries, 0 to 386\n",
      "Data columns (total 2 columns):\n",
      " #   Column          Non-Null Count  Dtype\n",
      "---  ------          --------------  -----\n",
      " 0   supermarket_No  387 non-null    int64\n",
      " 1   postal-code     387 non-null    int64\n",
      "dtypes: int64(2)\n",
      "memory usage: 6.2 KB\n"
     ]
    }
   ],
   "source": [
    "supermarkets.info()"
   ]
  },
  {
   "cell_type": "code",
   "execution_count": null,
   "id": "61a0b1c0",
   "metadata": {},
   "outputs": [],
   "source": []
  },
  {
   "cell_type": "markdown",
   "id": "843490d4",
   "metadata": {},
   "source": [
    "# Task 01"
   ]
  },
  {
   "cell_type": "markdown",
   "id": "3199fc72",
   "metadata": {},
   "source": [
    "# Data Cleaning and Preparation"
   ]
  },
  {
   "cell_type": "markdown",
   "id": "84937cc6",
   "metadata": {},
   "source": [
    "**merged datasets**"
   ]
  },
  {
   "cell_type": "code",
   "execution_count": 18,
   "id": "d0b2fe2f",
   "metadata": {},
   "outputs": [],
   "source": [
    "# Step 1: Merge Item with Sales on 'code'\n",
    "sales_item_merged = pd.merge(sales, item, on='code', how='left')\n",
    "\n",
    "# Step 2: Merge Promotion with Item on 'code'\n",
    "promotion_item_merged = pd.merge(promotion, item, on='code', how='left')\n",
    "\n",
    "# Step 3: Merge Promotion with Supermarkets on 'supermarkets' and 'supermarket_No'\n",
    "promotion_supermarkets_merged = pd.merge(promotion, supermarkets, left_on='supermarkets', right_on='supermarket_No', how='left')\n",
    "\n",
    "# Step 4: Merge Sales with Supermarkets on 'supermarket_No'\n",
    "sales_supermarkets_merged = pd.merge(sales_item_merged, supermarkets, left_on='supermarket', right_on='supermarket_No', how='left')\n"
   ]
  },
  {
   "cell_type": "code",
   "execution_count": 19,
   "id": "cd289fc6",
   "metadata": {},
   "outputs": [
    {
     "data": {
      "text/html": [
       "<div>\n",
       "<style scoped>\n",
       "    .dataframe tbody tr th:only-of-type {\n",
       "        vertical-align: middle;\n",
       "    }\n",
       "\n",
       "    .dataframe tbody tr th {\n",
       "        vertical-align: top;\n",
       "    }\n",
       "\n",
       "    .dataframe thead th {\n",
       "        text-align: right;\n",
       "    }\n",
       "</style>\n",
       "<table border=\"1\" class=\"dataframe\">\n",
       "  <thead>\n",
       "    <tr style=\"text-align: right;\">\n",
       "      <th></th>\n",
       "      <th>code</th>\n",
       "      <th>amount</th>\n",
       "      <th>units</th>\n",
       "      <th>time</th>\n",
       "      <th>province</th>\n",
       "      <th>week</th>\n",
       "      <th>customerId</th>\n",
       "      <th>supermarket</th>\n",
       "      <th>basket</th>\n",
       "      <th>day</th>\n",
       "      <th>voucher</th>\n",
       "      <th>descrption</th>\n",
       "      <th>type</th>\n",
       "      <th>brand</th>\n",
       "      <th>size</th>\n",
       "      <th>supermarket_No</th>\n",
       "      <th>postal-code</th>\n",
       "    </tr>\n",
       "  </thead>\n",
       "  <tbody>\n",
       "    <tr>\n",
       "      <th>0</th>\n",
       "      <td>7680850106</td>\n",
       "      <td>0.80</td>\n",
       "      <td>1</td>\n",
       "      <td>1100</td>\n",
       "      <td>2</td>\n",
       "      <td>1</td>\n",
       "      <td>125434</td>\n",
       "      <td>244</td>\n",
       "      <td>1</td>\n",
       "      <td>1</td>\n",
       "      <td>0</td>\n",
       "      <td>BARILLA ANGEL HAIR</td>\n",
       "      <td>Type 2</td>\n",
       "      <td>Barilla</td>\n",
       "      <td>16 OZ</td>\n",
       "      <td>244</td>\n",
       "      <td>40222</td>\n",
       "    </tr>\n",
       "    <tr>\n",
       "      <th>1</th>\n",
       "      <td>3620000470</td>\n",
       "      <td>3.59</td>\n",
       "      <td>1</td>\n",
       "      <td>1100</td>\n",
       "      <td>2</td>\n",
       "      <td>1</td>\n",
       "      <td>125434</td>\n",
       "      <td>244</td>\n",
       "      <td>1</td>\n",
       "      <td>1</td>\n",
       "      <td>0</td>\n",
       "      <td>BERTOLLI TOM&amp;BASIL SAUCE</td>\n",
       "      <td>Type 3</td>\n",
       "      <td>Bertolli</td>\n",
       "      <td>24 OZ</td>\n",
       "      <td>244</td>\n",
       "      <td>40222</td>\n",
       "    </tr>\n",
       "  </tbody>\n",
       "</table>\n",
       "</div>"
      ],
      "text/plain": [
       "         code  amount  units  time  province  week  customerId  supermarket  \\\n",
       "0  7680850106    0.80      1  1100         2     1      125434          244   \n",
       "1  3620000470    3.59      1  1100         2     1      125434          244   \n",
       "\n",
       "   basket  day  voucher                descrption    type     brand   size  \\\n",
       "0       1    1        0        BARILLA ANGEL HAIR  Type 2   Barilla  16 OZ   \n",
       "1       1    1        0  BERTOLLI TOM&BASIL SAUCE  Type 3  Bertolli  24 OZ   \n",
       "\n",
       "   supermarket_No  postal-code  \n",
       "0             244        40222  \n",
       "1             244        40222  "
      ]
     },
     "execution_count": 19,
     "metadata": {},
     "output_type": "execute_result"
    }
   ],
   "source": [
    "# You can now explore or work with the merged datasets\n",
    "sales_supermarkets_merged.head(2)"
   ]
  },
  {
   "cell_type": "code",
   "execution_count": 20,
   "id": "727649c0",
   "metadata": {},
   "outputs": [
    {
     "name": "stdout",
     "output_type": "stream",
     "text": [
      "Index(['code', 'amount', 'units', 'time', 'province', 'week', 'customerId',\n",
      "       'supermarket', 'basket', 'day', 'voucher', 'descrption', 'type',\n",
      "       'brand', 'size', 'supermarket_No', 'postal-code'],\n",
      "      dtype='object')\n"
     ]
    }
   ],
   "source": [
    "print(sales_supermarkets_merged.columns)"
   ]
  },
  {
   "cell_type": "code",
   "execution_count": 21,
   "id": "e69fc5a9",
   "metadata": {},
   "outputs": [
    {
     "data": {
      "text/plain": [
       "(1048575, 17)"
      ]
     },
     "execution_count": 21,
     "metadata": {},
     "output_type": "execute_result"
    }
   ],
   "source": [
    "sales_supermarkets_merged.shape"
   ]
  },
  {
   "cell_type": "code",
   "execution_count": 22,
   "id": "960d145f",
   "metadata": {},
   "outputs": [
    {
     "data": {
      "text/plain": [
       "code              0\n",
       "amount            0\n",
       "units             0\n",
       "time              0\n",
       "province          0\n",
       "week              0\n",
       "customerId        0\n",
       "supermarket       0\n",
       "basket            0\n",
       "day               0\n",
       "voucher           0\n",
       "descrption        0\n",
       "type              0\n",
       "brand             0\n",
       "size              0\n",
       "supermarket_No    0\n",
       "postal-code       0\n",
       "dtype: int64"
      ]
     },
     "execution_count": 22,
     "metadata": {},
     "output_type": "execute_result"
    }
   ],
   "source": [
    "#check null value\n",
    "sales_supermarkets_merged.isnull().sum()"
   ]
  },
  {
   "cell_type": "markdown",
   "id": "60531f46",
   "metadata": {},
   "source": [
    "No null value in this dataset "
   ]
  },
  {
   "cell_type": "code",
   "execution_count": null,
   "id": "2f63ebf5",
   "metadata": {},
   "outputs": [],
   "source": []
  },
  {
   "cell_type": "markdown",
   "id": "c2460300",
   "metadata": {},
   "source": [
    "# Business Insights"
   ]
  },
  {
   "cell_type": "markdown",
   "id": "32272117",
   "metadata": {},
   "source": [
    "**Insight 1: Sales Distribution by Item Type**"
   ]
  },
  {
   "cell_type": "code",
   "execution_count": 23,
   "id": "2967e397",
   "metadata": {},
   "outputs": [],
   "source": [
    "import warnings\n",
    "warnings.filterwarnings(\"ignore\", category=FutureWarning)"
   ]
  },
  {
   "cell_type": "code",
   "execution_count": 24,
   "id": "90b1fb8a",
   "metadata": {},
   "outputs": [
    {
     "data": {
      "image/png": "[encoded data removed]",
      "text/plain": [
       "<Figure size 1000x600 with 1 Axes>"
      ]
     },
     "metadata": {},
     "output_type": "display_data"
    }
   ],
   "source": [
    "import matplotlib.pyplot as plt\n",
    "import seaborn as sns\n",
    "\n",
    "# Sales distribution by item type\n",
    "plt.figure(figsize=(10, 6))\n",
    "sns.countplot(data=sales_supermarkets_merged, x='type', order=sales_supermarkets_merged['type'].value_counts().index)\n",
    "plt.title('Sales Distribution by Item Type')\n",
    "plt.xlabel('Item Type')\n",
    "plt.ylabel('Number of Sales')\n",
    "plt.show()"
   ]
  },
  {
   "cell_type": "markdown",
   "id": "e0dd8e85",
   "metadata": {},
   "source": [
    "The chart shows how many items of each type are being sold. \n",
    "\n",
    "This helps businesses understand which item types are popular and which are not, helping plan stock and promotions better."
   ]
  },
  {
   "cell_type": "code",
   "execution_count": null,
   "id": "7c2de5a3",
   "metadata": {},
   "outputs": [],
   "source": []
  },
  {
   "cell_type": "markdown",
   "id": "b2e94753",
   "metadata": {},
   "source": [
    "**Insight 2: Sales Trends over Time**"
   ]
  },
  {
   "cell_type": "code",
   "execution_count": 25,
   "id": "18759d7c",
   "metadata": {},
   "outputs": [
    {
     "data": {
      "image/png": "[encoded data removed]",
      "text/plain": [
       "<Figure size 1000x600 with 1 Axes>"
      ]
     },
     "metadata": {},
     "output_type": "display_data"
    }
   ],
   "source": [
    "# Group by time and sum up the sales amount\n",
    "sales_trends = sales_supermarkets_merged.groupby('time')['amount'].sum().reset_index()\n",
    "\n",
    "# Plot sales trends over time\n",
    "plt.figure(figsize=(10, 6))\n",
    "plt.plot(sales_trends['time'], sales_trends['amount'], marker='o', linestyle='-')\n",
    "plt.title('Sales Trends Over Time')\n",
    "plt.xlabel('Time')\n",
    "plt.ylabel('Total Sales Amount')\n",
    "plt.grid(True)\n",
    "plt.show()\n"
   ]
  },
  {
   "cell_type": "markdown",
   "id": "16194914",
   "metadata": {},
   "source": [
    "This line graph shows the total sales over time, helping identify when sales are high or low. \n",
    "\n",
    "It can be used to spot seasonal trends or the impact of promotions on sales growth."
   ]
  },
  {
   "cell_type": "code",
   "execution_count": null,
   "id": "65337abe",
   "metadata": {},
   "outputs": [],
   "source": []
  },
  {
   "cell_type": "markdown",
   "id": "b6369ba8",
   "metadata": {},
   "source": [
    "**Insight 3: Top Selling Brands**"
   ]
  },
  {
   "cell_type": "code",
   "execution_count": 26,
   "id": "8106fa2b",
   "metadata": {},
   "outputs": [
    {
     "data": {
      "image/png": "[encoded data removed]",
      "text/plain": [
       "<Figure size 640x480 with 1 Axes>"
      ]
     },
     "metadata": {},
     "output_type": "display_data"
    }
   ],
   "source": [
    "top_brands = sales_supermarkets_merged.groupby('brand')['amount'].sum().reset_index().sort_values(by='amount', ascending=False)\n",
    "sns.barplot(x='amount', y='brand', data=top_brands.head(10))\n",
    "plt.title('Top 10 Selling Brands')\n",
    "plt.show()\n"
   ]
  },
  {
   "cell_type": "markdown",
   "id": "79da0aae",
   "metadata": {},
   "source": [
    "Identifying the brands that generate the most sales helps businesses focus on stocking and promoting popular brands.\n",
    "\n",
    "\n",
    "Insight: Some brands consistently outperform others, indicating customer preference. Prioritize these brands for better sales."
   ]
  },
  {
   "cell_type": "code",
   "execution_count": null,
   "id": "b42b7761",
   "metadata": {},
   "outputs": [],
   "source": []
  },
  {
   "cell_type": "markdown",
   "id": "daa906de",
   "metadata": {},
   "source": [
    "**Insight 4: Sales by Province**"
   ]
  },
  {
   "cell_type": "code",
   "execution_count": 27,
   "id": "bbcb5171",
   "metadata": {},
   "outputs": [
    {
     "data": {
      "image/png": "[encoded data removed]",
      "text/plain": [
       "<Figure size 640x480 with 1 Axes>"
      ]
     },
     "metadata": {},
     "output_type": "display_data"
    }
   ],
   "source": [
    "province_sales = sales_supermarkets_merged.groupby('province')['amount'].sum().reset_index()\n",
    "sns.barplot(x='province', y='amount', data=province_sales)\n",
    "plt.title('Total Sales by Province')\n",
    "plt.show()\n"
   ]
  },
  {
   "cell_type": "markdown",
   "id": "dee7fabe",
   "metadata": {},
   "source": [
    "Understanding which provinces contribute the most to sales helps in regional marketing efforts.\n",
    "\n",
    "Insight: Provinces with higher sales indicate key markets. Focus marketing and stock distribution in these regions."
   ]
  },
  {
   "cell_type": "code",
   "execution_count": null,
   "id": "0b3c0f26",
   "metadata": {},
   "outputs": [],
   "source": []
  },
  {
   "cell_type": "markdown",
   "id": "9e56e56a",
   "metadata": {},
   "source": [
    "**Insight 5: Voucher Usage Impact**"
   ]
  },
  {
   "cell_type": "code",
   "execution_count": 28,
   "id": "4c322670",
   "metadata": {},
   "outputs": [
    {
     "data": {
      "image/png": "[encoded data removed]",
      "text/plain": [
       "<Figure size 640x480 with 1 Axes>"
      ]
     },
     "metadata": {},
     "output_type": "display_data"
    }
   ],
   "source": [
    "voucher_usage = sales_supermarkets_merged.groupby('voucher')['amount'].mean().reset_index()\n",
    "sns.barplot(x='voucher', y='amount', data=voucher_usage)\n",
    "plt.title('Average Sales Amount with vs. without Voucher')\n",
    "plt.show()\n"
   ]
  },
  {
   "cell_type": "markdown",
   "id": "83701725",
   "metadata": {},
   "source": [
    "Analyzing how vouchers impact customer spending.\n",
    "\n",
    "Insight: Customers who use vouchers tend to spend more, suggesting voucher promotions are effective in increasing basket size."
   ]
  },
  {
   "cell_type": "code",
   "execution_count": null,
   "id": "74b629ab",
   "metadata": {},
   "outputs": [],
   "source": []
  },
  {
   "cell_type": "code",
   "execution_count": null,
   "id": "5499071d",
   "metadata": {},
   "outputs": [],
   "source": []
  },
  {
   "cell_type": "code",
   "execution_count": null,
   "id": "f63384e7",
   "metadata": {},
   "outputs": [],
   "source": []
  },
  {
   "cell_type": "code",
   "execution_count": null,
   "id": "90ac2ce5",
   "metadata": {},
   "outputs": [],
   "source": []
  },
  {
   "cell_type": "markdown",
   "id": "8155dc87",
   "metadata": {},
   "source": [
    "# Task 02"
   ]
  },
  {
   "cell_type": "markdown",
   "id": "2d860b1d",
   "metadata": {},
   "source": [
    "# Define the Maze Environment"
   ]
  },
  {
   "cell_type": "code",
   "execution_count": 29,
   "id": "cb1efd06",
   "metadata": {},
   "outputs": [],
   "source": [
    "import numpy as np\n",
    "import random\n",
    "\n",
    "# Define the maze as a grid (0 = empty space, 1 = wall, 2 = goal)\n",
    "maze = np.array([\n",
    "    [0, 0, 0, 1, 0],\n",
    "    [1, 0, 1, 1, 0],\n",
    "    [0, 0, 0, 1, 0],\n",
    "    [0, 1, 0, 0, 0],\n",
    "    [0, 0, 0, 1, 2]  \n",
    "])\n",
    "\n",
    "# Define possible actions (up, down, left, right)\n",
    "actions = ['up', 'down', 'left', 'right']\n",
    "\n",
    "# Reward system: 1 point for reaching the goal, -1 for hitting a wall\n",
    "def get_reward(state):\n",
    "    x, y = state\n",
    "    if maze[x, y] == 1:\n",
    "        return -1  # Wall\n",
    "    elif maze[x, y] == 2:\n",
    "        return 1   # Goal\n",
    "    else:\n",
    "        return 0   # Empty space\n"
   ]
  },
  {
   "cell_type": "code",
   "execution_count": null,
   "id": "5dddc3c7",
   "metadata": {},
   "outputs": [],
   "source": []
  },
  {
   "cell_type": "markdown",
   "id": "e2f83061",
   "metadata": {},
   "source": [
    "# Define the Q-learning Algorithm"
   ]
  },
  {
   "cell_type": "markdown",
   "id": "ad421c7a",
   "metadata": {},
   "source": [
    "The agent will learn over time by updating its Q-values "
   ]
  },
  {
   "cell_type": "code",
   "execution_count": 30,
   "id": "68799ea5",
   "metadata": {},
   "outputs": [],
   "source": [
    "# Initialize Q-table with zeros (state-action table)\n",
    "q_table = np.zeros((5, 5, len(actions)))\n",
    "\n",
    "# Learning parameters\n",
    "learning_rate = 0.8\n",
    "discount_factor = 0.95\n",
    "epsilon = 0.9  # Exploration rate\n",
    "\n",
    "# Function to choose the next action (exploration vs. exploitation)\n",
    "def choose_action(state):\n",
    "    if random.uniform(0, 1) < epsilon:  # Explore\n",
    "        return random.choice(actions)\n",
    "    else:  # Exploit\n",
    "        x, y = state\n",
    "        return actions[np.argmax(q_table[x, y])]  # Best action based on Q-table\n",
    "\n",
    "# Function to take action and move\n",
    "def take_action(state, action):\n",
    "    x, y = state\n",
    "    if action == 'up' and x > 0:\n",
    "        return (x - 1, y)\n",
    "    elif action == 'down' and x < 4:\n",
    "        return (x + 1, y)\n",
    "    elif action == 'left' and y > 0:\n",
    "        return (x, y - 1)\n",
    "    elif action == 'right' and y < 4:\n",
    "        return (x, y + 1)\n",
    "    return state  # If the action hits the boundary, stay in place\n"
   ]
  },
  {
   "cell_type": "code",
   "execution_count": null,
   "id": "8d3bd7e4",
   "metadata": {},
   "outputs": [],
   "source": []
  },
  {
   "cell_type": "markdown",
   "id": "d25a5c9c",
   "metadata": {},
   "source": [
    "# Train the Agent"
   ]
  },
  {
   "cell_type": "markdown",
   "id": "1deccac4",
   "metadata": {},
   "source": [
    "The agent will explore the maze, learn the rewards, and improve over many episodes (trials)."
   ]
  },
  {
   "cell_type": "code",
   "execution_count": 31,
   "id": "285ea534",
   "metadata": {},
   "outputs": [],
   "source": [
    "# Train the agent for 1000 episodes\n",
    "for episode in range(1000):\n",
    "    # Reset agent position at the start of each episode\n",
    "    state = (0, 0)  # Start at top-left corner\n",
    "    \n",
    "    for _ in range(50):  # Limit steps per episode\n",
    "        action = choose_action(state)\n",
    "        next_state = take_action(state, action)\n",
    "        \n",
    "        # Get reward for the next state\n",
    "        reward = get_reward(next_state)\n",
    "        \n",
    "        # Update Q-value using Q-learning formula\n",
    "        x, y = state\n",
    "        next_x, next_y = next_state\n",
    "        q_table[x, y, actions.index(action)] = q_table[x, y, actions.index(action)] + learning_rate * (\n",
    "            reward + discount_factor * np.max(q_table[next_x, next_y]) - q_table[x, y, actions.index(action)]\n",
    "        )\n",
    "        \n",
    "        # Move to the next state\n",
    "        state = next_state\n",
    "        \n",
    "        # If goal is reached, break out of the loop\n",
    "        if reward == 1:\n",
    "            break\n"
   ]
  },
  {
   "cell_type": "code",
   "execution_count": null,
   "id": "e3d87676",
   "metadata": {},
   "outputs": [],
   "source": []
  },
  {
   "cell_type": "markdown",
   "id": "d642b58d",
   "metadata": {},
   "source": [
    "# Test the Agent"
   ]
  },
  {
   "cell_type": "markdown",
   "id": "52a45a27",
   "metadata": {},
   "source": [
    "After training, test how well the agent navigates the maze."
   ]
  },
  {
   "cell_type": "code",
   "execution_count": 32,
   "id": "c57c1b1e",
   "metadata": {},
   "outputs": [
    {
     "name": "stdout",
     "output_type": "stream",
     "text": [
      "Step 1: Agent moves up, new state: (0, 0)\n",
      "Step 2: Agent moves right, new state: (0, 1)\n",
      "Step 3: Agent moves up, new state: (0, 1)\n",
      "Step 4: Agent moves down, new state: (1, 1)\n",
      "Step 5: Agent moves up, new state: (0, 1)\n",
      "Step 6: Agent moves right, new state: (0, 2)\n",
      "Step 7: Agent moves right, new state: (0, 3)\n",
      "Step 8: Agent moves up, new state: (0, 3)\n",
      "Step 9: Agent moves right, new state: (0, 4)\n",
      "Step 10: Agent moves up, new state: (0, 4)\n",
      "Step 11: Agent moves up, new state: (0, 4)\n",
      "Step 12: Agent moves right, new state: (0, 4)\n",
      "Step 13: Agent moves down, new state: (1, 4)\n",
      "Step 14: Agent moves right, new state: (1, 4)\n",
      "Step 15: Agent moves left, new state: (1, 3)\n",
      "Step 16: Agent moves right, new state: (1, 4)\n",
      "Step 17: Agent moves right, new state: (1, 4)\n",
      "Step 18: Agent moves down, new state: (2, 4)\n",
      "Step 19: Agent moves right, new state: (2, 4)\n",
      "Step 20: Agent moves right, new state: (2, 4)\n",
      "Step 21: Agent moves up, new state: (1, 4)\n",
      "Step 22: Agent moves down, new state: (2, 4)\n",
      "Step 23: Agent moves up, new state: (1, 4)\n",
      "Step 24: Agent moves left, new state: (1, 3)\n",
      "Step 25: Agent moves right, new state: (1, 4)\n",
      "Step 26: Agent moves down, new state: (2, 4)\n",
      "Step 27: Agent moves up, new state: (1, 4)\n",
      "Step 28: Agent moves down, new state: (2, 4)\n",
      "Step 29: Agent moves left, new state: (2, 3)\n",
      "Step 30: Agent moves left, new state: (2, 2)\n",
      "Step 31: Agent moves left, new state: (2, 1)\n",
      "Step 32: Agent moves left, new state: (2, 0)\n",
      "Step 33: Agent moves down, new state: (3, 0)\n",
      "Step 34: Agent moves up, new state: (2, 0)\n",
      "Step 35: Agent moves right, new state: (2, 1)\n",
      "Step 36: Agent moves right, new state: (2, 2)\n",
      "Step 37: Agent moves left, new state: (2, 1)\n",
      "Step 38: Agent moves down, new state: (3, 1)\n",
      "Step 39: Agent moves up, new state: (2, 1)\n",
      "Step 40: Agent moves right, new state: (2, 2)\n",
      "Step 41: Agent moves left, new state: (2, 1)\n",
      "Step 42: Agent moves down, new state: (3, 1)\n",
      "Step 43: Agent moves up, new state: (2, 1)\n",
      "Step 44: Agent moves right, new state: (2, 2)\n",
      "Step 45: Agent moves right, new state: (2, 3)\n",
      "Step 46: Agent moves down, new state: (3, 3)\n",
      "Step 47: Agent moves down, new state: (4, 3)\n",
      "Step 48: Agent moves right, new state: (4, 4)\n",
      "Goal reached in 48 steps!\n"
     ]
    }
   ],
   "source": [
    "# Test the trained agent\n",
    "state = (0, 0)  # Start position\n",
    "steps = 0\n",
    "while state != (4, 4):  # Goal position\n",
    "    action = choose_action(state)\n",
    "    state = take_action(state, action)\n",
    "    steps += 1\n",
    "    print(f\"Step {steps}: Agent moves {action}, new state: {state}\")\n",
    "\n",
    "print(f\"Goal reached in {steps} steps!\")\n"
   ]
  },
  {
   "cell_type": "code",
   "execution_count": null,
   "id": "df452abe",
   "metadata": {},
   "outputs": [],
   "source": []
  },
  {
   "cell_type": "code",
   "execution_count": null,
   "id": "9f49395e",
   "metadata": {},
   "outputs": [],
   "source": []
  },
  {
   "cell_type": "code",
   "execution_count": null,
   "id": "f1f97c35",
   "metadata": {},
   "outputs": [],
   "source": []
  },
  {
   "cell_type": "markdown",
   "id": "1fd7caba",
   "metadata": {},
   "source": [
    "# task 01 continue..... Business Insights using ML "
   ]
  },
  {
   "cell_type": "markdown",
   "id": "8d2d8149",
   "metadata": {},
   "source": [
    "we use  a Linear Regression model to predict sales amounts based on certain features in dataset.\n",
    "\n",
    "This type of analysis can help in understanding factors influencing sales and generating actionable insights.\n",
    "\n"
   ]
  },
  {
   "cell_type": "code",
   "execution_count": 33,
   "id": "396ba751",
   "metadata": {},
   "outputs": [
    {
     "name": "stdout",
     "output_type": "stream",
     "text": [
      "Mean Squared Error: 172.65074760068\n",
      "R^2 Score: 0.0028911920943006653\n",
      "                 Coefficient\n",
      "units               0.939815\n",
      "type_Type 2        -0.798970\n",
      "type_Type 3         0.122060\n",
      "type_Type 4         0.716776\n",
      "supermarket_2       0.034886\n",
      "...                      ...\n",
      "supermarket_381     0.026740\n",
      "supermarket_382    -0.004237\n",
      "supermarket_383     0.267755\n",
      "supermarket_384     0.038871\n",
      "supermarket_385     0.004528\n",
      "\n",
      "[379 rows x 1 columns]\n"
     ]
    },
    {
     "data": {
      "image/png": "[encoded data removed]",
      "text/plain": [
       "<Figure size 1000x600 with 1 Axes>"
      ]
     },
     "metadata": {},
     "output_type": "display_data"
    }
   ],
   "source": [
    "import pandas as pd\n",
    "import numpy as np\n",
    "from sklearn.model_selection import train_test_split\n",
    "from sklearn.linear_model import LinearRegression\n",
    "from sklearn.metrics import mean_squared_error, r2_score\n",
    "from sklearn.preprocessing import OneHotEncoder\n",
    "\n",
    "# Load the merged sales dataset\n",
    "sales_data = sales_supermarkets_merged  \n",
    "\n",
    "# Step 1: Prepare the data\n",
    "# Select relevant features\n",
    "features = sales_data[['units', 'type', 'supermarket']]\n",
    "target = sales_data['amount']\n",
    "\n",
    "# Step 2: One-hot encode categorical variables\n",
    "features_encoded = pd.get_dummies(features, columns=['type', 'supermarket'], drop_first=True)\n",
    "\n",
    "# Step 3: Split the data into training and testing sets\n",
    "X_train, X_test, y_train, y_test = train_test_split(features_encoded, target, test_size=0.2, random_state=42)\n",
    "\n",
    "# Step 4: Train the model\n",
    "model = LinearRegression()\n",
    "model.fit(X_train, y_train)\n",
    "\n",
    "# Step 5: Make predictions\n",
    "predictions = model.predict(X_test)\n",
    "\n",
    "# Step 6: Evaluate the model\n",
    "mse = mean_squared_error(y_test, predictions)\n",
    "r2 = r2_score(y_test, predictions)\n",
    "\n",
    "print(f'Mean Squared Error: {mse}')\n",
    "print(f'R^2 Score: {r2}')\n",
    "\n",
    "# Step 7: Feature importance (coefficients)\n",
    "coefficients = pd.DataFrame(model.coef_, features_encoded.columns, columns=['Coefficient'])\n",
    "print(coefficients)\n",
    "\n",
    "# Optional: Visualize predictions vs actual values\n",
    "import matplotlib.pyplot as plt\n",
    "\n",
    "plt.figure(figsize=(10, 6))\n",
    "plt.scatter(y_test, predictions)\n",
    "plt.xlabel('Actual Sales Amount')\n",
    "plt.ylabel('Predicted Sales Amount')\n",
    "plt.title('Actual vs Predicted Sales Amount')\n",
    "plt.plot([0, max(y_test)], [0, max(y_test)], color='red', linestyle='--')  # Diagonal line\n",
    "plt.show()\n"
   ]
  },
  {
   "cell_type": "markdown",
   "id": "2eb9a370",
   "metadata": {},
   "source": [
    "**Output Summary**\n",
    "\n",
    "MSE : 172.650\n",
    "\n",
    "This number shows how far off the model's predictions are from the actual sales on average. \n",
    "\n",
    "R2 Score : 0.0028\n",
    "\n",
    "This score indicates that the model explains only about 0.28% of the variability in sales. This suggests the model isn't very effective at predicting sales.\n",
    "\n",
    "\n",
    "Coefficients :\n",
    "\n",
    "Units Sold: Each additional unit sold increases sales by about $0.93.\n",
    "\n",
    "Type 2 Item: Being of Type 2 reduces sales by about $0.79 compared to the baseline type.\n",
    "\n",
    "Supermarkets: Each supermarket has its own effect on sales, showing how much more or less they sell.\n"
   ]
  },
  {
   "cell_type": "code",
   "execution_count": null,
   "id": "801c4b1f",
   "metadata": {},
   "outputs": [],
   "source": []
  },
  {
   "cell_type": "code",
   "execution_count": null,
   "id": "91380d46",
   "metadata": {},
   "outputs": [],
   "source": []
  }
 ],
 "metadata": {
  "kernelspec": {
   "display_name": "Python 3 (ipykernel)",
   "language": "python",
   "name": "python3"
  },
  "language_info": {
   "codemirror_mode": {
    "name": "ipython",
    "version": 3
   },
   "file_extension": ".py",
   "mimetype": "text/x-python",
   "name": "python",
   "nbconvert_exporter": "python",
   "pygments_lexer": "ipython3",
   "version": "3.11.5"
  }
 },
 "nbformat": 4,
 "nbformat_minor": 5
}
