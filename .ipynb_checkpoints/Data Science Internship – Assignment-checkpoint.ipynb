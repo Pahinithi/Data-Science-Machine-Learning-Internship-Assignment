{
 "cells": [
  {
   "cell_type": "code",
   "execution_count": 1,
   "id": "5ab1cfff",
   "metadata": {},
   "outputs": [
    {
     "ename": "FileNotFoundError",
     "evalue": "[Errno 2] No such file or directory: 'item.csv'",
     "output_type": "error",
     "traceback": [
      "\u001b[0;31m---------------------------------------------------------------------------\u001b[0m",
      "\u001b[0;31mFileNotFoundError\u001b[0m                         Traceback (most recent call last)",
      "Cell \u001b[0;32mIn[1], line 3\u001b[0m\n\u001b[1;32m      1\u001b[0m \u001b[38;5;28;01mimport\u001b[39;00m \u001b[38;5;21;01mpandas\u001b[39;00m \u001b[38;5;28;01mas\u001b[39;00m \u001b[38;5;21;01mpd\u001b[39;00m\n\u001b[1;32m      2\u001b[0m \u001b[38;5;66;03m# Load the dataset\u001b[39;00m\n\u001b[0;32m----> 3\u001b[0m item \u001b[38;5;241m=\u001b[39m pd\u001b[38;5;241m.\u001b[39mread_csv(\u001b[38;5;124m\"\u001b[39m\u001b[38;5;124mitem.csv\u001b[39m\u001b[38;5;124m\"\u001b[39m)\n\u001b[1;32m      4\u001b[0m promotion \u001b[38;5;241m=\u001b[39m pd\u001b[38;5;241m.\u001b[39mread_csv(\u001b[38;5;124m\"\u001b[39m\u001b[38;5;124mpromotion.csv\u001b[39m\u001b[38;5;124m\"\u001b[39m)\n\u001b[1;32m      5\u001b[0m sales \u001b[38;5;241m=\u001b[39m pd\u001b[38;5;241m.\u001b[39mread_csv(\u001b[38;5;124m\"\u001b[39m\u001b[38;5;124msales.csv\u001b[39m\u001b[38;5;124m\"\u001b[39m)\n",
      "File \u001b[0;32m/opt/homebrew/anaconda3/lib/python3.11/site-packages/pandas/io/parsers/readers.py:948\u001b[0m, in \u001b[0;36mread_csv\u001b[0;34m(filepath_or_buffer, sep, delimiter, header, names, index_col, usecols, dtype, engine, converters, true_values, false_values, skipinitialspace, skiprows, skipfooter, nrows, na_values, keep_default_na, na_filter, verbose, skip_blank_lines, parse_dates, infer_datetime_format, keep_date_col, date_parser, date_format, dayfirst, cache_dates, iterator, chunksize, compression, thousands, decimal, lineterminator, quotechar, quoting, doublequote, escapechar, comment, encoding, encoding_errors, dialect, on_bad_lines, delim_whitespace, low_memory, memory_map, float_precision, storage_options, dtype_backend)\u001b[0m\n\u001b[1;32m    935\u001b[0m kwds_defaults \u001b[38;5;241m=\u001b[39m _refine_defaults_read(\n\u001b[1;32m    936\u001b[0m     dialect,\n\u001b[1;32m    937\u001b[0m     delimiter,\n\u001b[0;32m   (...)\u001b[0m\n\u001b[1;32m    944\u001b[0m     dtype_backend\u001b[38;5;241m=\u001b[39mdtype_backend,\n\u001b[1;32m    945\u001b[0m )\n\u001b[1;32m    946\u001b[0m kwds\u001b[38;5;241m.\u001b[39mupdate(kwds_defaults)\n\u001b[0;32m--> 948\u001b[0m \u001b[38;5;28;01mreturn\u001b[39;00m _read(filepath_or_buffer, kwds)\n",
      "File \u001b[0;32m/opt/homebrew/anaconda3/lib/python3.11/site-packages/pandas/io/parsers/readers.py:611\u001b[0m, in \u001b[0;36m_read\u001b[0;34m(filepath_or_buffer, kwds)\u001b[0m\n\u001b[1;32m    608\u001b[0m _validate_names(kwds\u001b[38;5;241m.\u001b[39mget(\u001b[38;5;124m\"\u001b[39m\u001b[38;5;124mnames\u001b[39m\u001b[38;5;124m\"\u001b[39m, \u001b[38;5;28;01mNone\u001b[39;00m))\n\u001b[1;32m    610\u001b[0m \u001b[38;5;66;03m# Create the parser.\u001b[39;00m\n\u001b[0;32m--> 611\u001b[0m parser \u001b[38;5;241m=\u001b[39m TextFileReader(filepath_or_buffer, \u001b[38;5;241m*\u001b[39m\u001b[38;5;241m*\u001b[39mkwds)\n\u001b[1;32m    613\u001b[0m \u001b[38;5;28;01mif\u001b[39;00m chunksize \u001b[38;5;129;01mor\u001b[39;00m iterator:\n\u001b[1;32m    614\u001b[0m     \u001b[38;5;28;01mreturn\u001b[39;00m parser\n",
      "File \u001b[0;32m/opt/homebrew/anaconda3/lib/python3.11/site-packages/pandas/io/parsers/readers.py:1448\u001b[0m, in \u001b[0;36mTextFileReader.__init__\u001b[0;34m(self, f, engine, **kwds)\u001b[0m\n\u001b[1;32m   1445\u001b[0m     \u001b[38;5;28mself\u001b[39m\u001b[38;5;241m.\u001b[39moptions[\u001b[38;5;124m\"\u001b[39m\u001b[38;5;124mhas_index_names\u001b[39m\u001b[38;5;124m\"\u001b[39m] \u001b[38;5;241m=\u001b[39m kwds[\u001b[38;5;124m\"\u001b[39m\u001b[38;5;124mhas_index_names\u001b[39m\u001b[38;5;124m\"\u001b[39m]\n\u001b[1;32m   1447\u001b[0m \u001b[38;5;28mself\u001b[39m\u001b[38;5;241m.\u001b[39mhandles: IOHandles \u001b[38;5;241m|\u001b[39m \u001b[38;5;28;01mNone\u001b[39;00m \u001b[38;5;241m=\u001b[39m \u001b[38;5;28;01mNone\u001b[39;00m\n\u001b[0;32m-> 1448\u001b[0m \u001b[38;5;28mself\u001b[39m\u001b[38;5;241m.\u001b[39m_engine \u001b[38;5;241m=\u001b[39m \u001b[38;5;28mself\u001b[39m\u001b[38;5;241m.\u001b[39m_make_engine(f, \u001b[38;5;28mself\u001b[39m\u001b[38;5;241m.\u001b[39mengine)\n",
      "File \u001b[0;32m/opt/homebrew/anaconda3/lib/python3.11/site-packages/pandas/io/parsers/readers.py:1705\u001b[0m, in \u001b[0;36mTextFileReader._make_engine\u001b[0;34m(self, f, engine)\u001b[0m\n\u001b[1;32m   1703\u001b[0m     \u001b[38;5;28;01mif\u001b[39;00m \u001b[38;5;124m\"\u001b[39m\u001b[38;5;124mb\u001b[39m\u001b[38;5;124m\"\u001b[39m \u001b[38;5;129;01mnot\u001b[39;00m \u001b[38;5;129;01min\u001b[39;00m mode:\n\u001b[1;32m   1704\u001b[0m         mode \u001b[38;5;241m+\u001b[39m\u001b[38;5;241m=\u001b[39m \u001b[38;5;124m\"\u001b[39m\u001b[38;5;124mb\u001b[39m\u001b[38;5;124m\"\u001b[39m\n\u001b[0;32m-> 1705\u001b[0m \u001b[38;5;28mself\u001b[39m\u001b[38;5;241m.\u001b[39mhandles \u001b[38;5;241m=\u001b[39m get_handle(\n\u001b[1;32m   1706\u001b[0m     f,\n\u001b[1;32m   1707\u001b[0m     mode,\n\u001b[1;32m   1708\u001b[0m     encoding\u001b[38;5;241m=\u001b[39m\u001b[38;5;28mself\u001b[39m\u001b[38;5;241m.\u001b[39moptions\u001b[38;5;241m.\u001b[39mget(\u001b[38;5;124m\"\u001b[39m\u001b[38;5;124mencoding\u001b[39m\u001b[38;5;124m\"\u001b[39m, \u001b[38;5;28;01mNone\u001b[39;00m),\n\u001b[1;32m   1709\u001b[0m     compression\u001b[38;5;241m=\u001b[39m\u001b[38;5;28mself\u001b[39m\u001b[38;5;241m.\u001b[39moptions\u001b[38;5;241m.\u001b[39mget(\u001b[38;5;124m\"\u001b[39m\u001b[38;5;124mcompression\u001b[39m\u001b[38;5;124m\"\u001b[39m, \u001b[38;5;28;01mNone\u001b[39;00m),\n\u001b[1;32m   1710\u001b[0m     memory_map\u001b[38;5;241m=\u001b[39m\u001b[38;5;28mself\u001b[39m\u001b[38;5;241m.\u001b[39moptions\u001b[38;5;241m.\u001b[39mget(\u001b[38;5;124m\"\u001b[39m\u001b[38;5;124mmemory_map\u001b[39m\u001b[38;5;124m\"\u001b[39m, \u001b[38;5;28;01mFalse\u001b[39;00m),\n\u001b[1;32m   1711\u001b[0m     is_text\u001b[38;5;241m=\u001b[39mis_text,\n\u001b[1;32m   1712\u001b[0m     errors\u001b[38;5;241m=\u001b[39m\u001b[38;5;28mself\u001b[39m\u001b[38;5;241m.\u001b[39moptions\u001b[38;5;241m.\u001b[39mget(\u001b[38;5;124m\"\u001b[39m\u001b[38;5;124mencoding_errors\u001b[39m\u001b[38;5;124m\"\u001b[39m, \u001b[38;5;124m\"\u001b[39m\u001b[38;5;124mstrict\u001b[39m\u001b[38;5;124m\"\u001b[39m),\n\u001b[1;32m   1713\u001b[0m     storage_options\u001b[38;5;241m=\u001b[39m\u001b[38;5;28mself\u001b[39m\u001b[38;5;241m.\u001b[39moptions\u001b[38;5;241m.\u001b[39mget(\u001b[38;5;124m\"\u001b[39m\u001b[38;5;124mstorage_options\u001b[39m\u001b[38;5;124m\"\u001b[39m, \u001b[38;5;28;01mNone\u001b[39;00m),\n\u001b[1;32m   1714\u001b[0m )\n\u001b[1;32m   1715\u001b[0m \u001b[38;5;28;01massert\u001b[39;00m \u001b[38;5;28mself\u001b[39m\u001b[38;5;241m.\u001b[39mhandles \u001b[38;5;129;01mis\u001b[39;00m \u001b[38;5;129;01mnot\u001b[39;00m \u001b[38;5;28;01mNone\u001b[39;00m\n\u001b[1;32m   1716\u001b[0m f \u001b[38;5;241m=\u001b[39m \u001b[38;5;28mself\u001b[39m\u001b[38;5;241m.\u001b[39mhandles\u001b[38;5;241m.\u001b[39mhandle\n",
      "File \u001b[0;32m/opt/homebrew/anaconda3/lib/python3.11/site-packages/pandas/io/common.py:863\u001b[0m, in \u001b[0;36mget_handle\u001b[0;34m(path_or_buf, mode, encoding, compression, memory_map, is_text, errors, storage_options)\u001b[0m\n\u001b[1;32m    858\u001b[0m \u001b[38;5;28;01melif\u001b[39;00m \u001b[38;5;28misinstance\u001b[39m(handle, \u001b[38;5;28mstr\u001b[39m):\n\u001b[1;32m    859\u001b[0m     \u001b[38;5;66;03m# Check whether the filename is to be opened in binary mode.\u001b[39;00m\n\u001b[1;32m    860\u001b[0m     \u001b[38;5;66;03m# Binary mode does not support 'encoding' and 'newline'.\u001b[39;00m\n\u001b[1;32m    861\u001b[0m     \u001b[38;5;28;01mif\u001b[39;00m ioargs\u001b[38;5;241m.\u001b[39mencoding \u001b[38;5;129;01mand\u001b[39;00m \u001b[38;5;124m\"\u001b[39m\u001b[38;5;124mb\u001b[39m\u001b[38;5;124m\"\u001b[39m \u001b[38;5;129;01mnot\u001b[39;00m \u001b[38;5;129;01min\u001b[39;00m ioargs\u001b[38;5;241m.\u001b[39mmode:\n\u001b[1;32m    862\u001b[0m         \u001b[38;5;66;03m# Encoding\u001b[39;00m\n\u001b[0;32m--> 863\u001b[0m         handle \u001b[38;5;241m=\u001b[39m \u001b[38;5;28mopen\u001b[39m(\n\u001b[1;32m    864\u001b[0m             handle,\n\u001b[1;32m    865\u001b[0m             ioargs\u001b[38;5;241m.\u001b[39mmode,\n\u001b[1;32m    866\u001b[0m             encoding\u001b[38;5;241m=\u001b[39mioargs\u001b[38;5;241m.\u001b[39mencoding,\n\u001b[1;32m    867\u001b[0m             errors\u001b[38;5;241m=\u001b[39merrors,\n\u001b[1;32m    868\u001b[0m             newline\u001b[38;5;241m=\u001b[39m\u001b[38;5;124m\"\u001b[39m\u001b[38;5;124m\"\u001b[39m,\n\u001b[1;32m    869\u001b[0m         )\n\u001b[1;32m    870\u001b[0m     \u001b[38;5;28;01melse\u001b[39;00m:\n\u001b[1;32m    871\u001b[0m         \u001b[38;5;66;03m# Binary mode\u001b[39;00m\n\u001b[1;32m    872\u001b[0m         handle \u001b[38;5;241m=\u001b[39m \u001b[38;5;28mopen\u001b[39m(handle, ioargs\u001b[38;5;241m.\u001b[39mmode)\n",
      "\u001b[0;31mFileNotFoundError\u001b[0m: [Errno 2] No such file or directory: 'item.csv'"
     ]
    }
   ],
   "source": [
    "import pandas as pd\n",
    "# Load the dataset\n",
    "item = pd.read_csv(\"item.csv\")\n",
    "promotion = pd.read_csv(\"promotion.csv\")\n",
    "sales = pd.read_csv(\"sales.csv\")\n",
    "supermarkets = pd.read_csv(\"supermarkets.csv\")"
   ]
  },
  {
   "cell_type": "markdown",
   "id": "19739ddb",
   "metadata": {},
   "source": [
    "# item dataset"
   ]
  },
  {
   "cell_type": "code",
   "execution_count": 2,
   "id": "e74975ac",
   "metadata": {},
   "outputs": [
    {
     "ename": "NameError",
     "evalue": "name 'item' is not defined",
     "output_type": "error",
     "traceback": [
      "\u001b[0;31m---------------------------------------------------------------------------\u001b[0m",
      "\u001b[0;31mNameError\u001b[0m                                 Traceback (most recent call last)",
      "Cell \u001b[0;32mIn[2], line 1\u001b[0m\n\u001b[0;32m----> 1\u001b[0m item\u001b[38;5;241m.\u001b[39mhead()\n",
      "\u001b[0;31mNameError\u001b[0m: name 'item' is not defined"
     ]
    }
   ],
   "source": [
    "item.head()"
   ]
  },
  {
   "cell_type": "code",
   "execution_count": null,
   "id": "b50f77fd",
   "metadata": {},
   "outputs": [],
   "source": [
    "# Display the shape of the DataFrame (rows, columns)\n",
    "item.shape"
   ]
  },
  {
   "cell_type": "code",
   "execution_count": null,
   "id": "efb76f55",
   "metadata": {},
   "outputs": [],
   "source": [
    "#check null value\n",
    "item.isnull().sum()"
   ]
  },
  {
   "cell_type": "code",
   "execution_count": null,
   "id": "6d0d97ea",
   "metadata": {},
   "outputs": [],
   "source": [
    "item.info()"
   ]
  },
  {
   "cell_type": "code",
   "execution_count": null,
   "id": "8da56bc8",
   "metadata": {},
   "outputs": [],
   "source": []
  },
  {
   "cell_type": "markdown",
   "id": "eb3e22bb",
   "metadata": {},
   "source": [
    "# promotion dataset"
   ]
  },
  {
   "cell_type": "code",
   "execution_count": null,
   "id": "d32bcbf5",
   "metadata": {},
   "outputs": [],
   "source": [
    "promotion.head()"
   ]
  },
  {
   "cell_type": "code",
   "execution_count": null,
   "id": "ae2f15b0",
   "metadata": {},
   "outputs": [],
   "source": [
    "# Display the shape of the DataFrame (rows, columns)\n",
    "promotion.shape"
   ]
  },
  {
   "cell_type": "code",
   "execution_count": null,
   "id": "9f0c39b3",
   "metadata": {},
   "outputs": [],
   "source": [
    "#check null value\n",
    "promotion.isnull().sum()"
   ]
  },
  {
   "cell_type": "code",
   "execution_count": null,
   "id": "442cda05",
   "metadata": {},
   "outputs": [],
   "source": [
    "promotion.info()"
   ]
  },
  {
   "cell_type": "code",
   "execution_count": null,
   "id": "882c682c",
   "metadata": {},
   "outputs": [],
   "source": []
  },
  {
   "cell_type": "markdown",
   "id": "3fbeed51",
   "metadata": {},
   "source": [
    "# sales dataset"
   ]
  },
  {
   "cell_type": "code",
   "execution_count": null,
   "id": "202583a9",
   "metadata": {},
   "outputs": [],
   "source": [
    "sales.head()"
   ]
  },
  {
   "cell_type": "code",
   "execution_count": null,
   "id": "1f70dc32",
   "metadata": {},
   "outputs": [],
   "source": [
    "# Display the shape of the DataFrame (rows, columns)\n",
    "sales.shape"
   ]
  },
  {
   "cell_type": "code",
   "execution_count": null,
   "id": "4cbb5ac8",
   "metadata": {},
   "outputs": [],
   "source": [
    "#check null value\n",
    "sales.isnull().sum()"
   ]
  },
  {
   "cell_type": "code",
   "execution_count": null,
   "id": "736d0089",
   "metadata": {},
   "outputs": [],
   "source": [
    "sales.info()"
   ]
  },
  {
   "cell_type": "code",
   "execution_count": null,
   "id": "2d31f4d5",
   "metadata": {},
   "outputs": [],
   "source": []
  },
  {
   "cell_type": "markdown",
   "id": "53e39eb2",
   "metadata": {},
   "source": [
    "# supermarkets dataset"
   ]
  },
  {
   "cell_type": "code",
   "execution_count": null,
   "id": "b33cbc7e",
   "metadata": {},
   "outputs": [],
   "source": [
    "supermarkets.head()"
   ]
  },
  {
   "cell_type": "code",
   "execution_count": null,
   "id": "d3a84742",
   "metadata": {},
   "outputs": [],
   "source": [
    "# Display the shape of the DataFrame (rows, columns)\n",
    "supermarkets.shape\n"
   ]
  },
  {
   "cell_type": "code",
   "execution_count": null,
   "id": "7e2f44b1",
   "metadata": {},
   "outputs": [],
   "source": [
    "#check null value\n",
    "supermarkets.isnull().sum()"
   ]
  },
  {
   "cell_type": "code",
   "execution_count": null,
   "id": "7d547538",
   "metadata": {},
   "outputs": [],
   "source": [
    "supermarkets.info()"
   ]
  },
  {
   "cell_type": "code",
   "execution_count": null,
   "id": "61a0b1c0",
   "metadata": {},
   "outputs": [],
   "source": []
  },
  {
   "cell_type": "markdown",
   "id": "843490d4",
   "metadata": {},
   "source": [
    "# Task 01"
   ]
  },
  {
   "cell_type": "markdown",
   "id": "3199fc72",
   "metadata": {},
   "source": [
    "# Data Cleaning and Preparation"
   ]
  },
  {
   "cell_type": "markdown",
   "id": "cd2d284a",
   "metadata": {},
   "source": [
    "No null value in this dataset "
   ]
  },
  {
   "cell_type": "markdown",
   "id": "84937cc6",
   "metadata": {},
   "source": [
    "**merged datasets**"
   ]
  },
  {
   "cell_type": "code",
   "execution_count": null,
   "id": "d0b2fe2f",
   "metadata": {},
   "outputs": [],
   "source": [
    "# Step 1: Merge Item with Sales on 'code'\n",
    "sales_item_merged = pd.merge(sales, item, on='code', how='left')\n",
    "\n",
    "# Step 2: Merge Promotion with Item on 'code'\n",
    "promotion_item_merged = pd.merge(promotion, item, on='code', how='left')\n",
    "\n",
    "# Step 3: Merge Promotion with Supermarkets on 'supermarkets' and 'supermarket_No'\n",
    "promotion_supermarkets_merged = pd.merge(promotion, supermarkets, left_on='supermarkets', right_on='supermarket_No', how='left')\n",
    "\n",
    "# Step 4: Merge Sales with Supermarkets on 'supermarket_No'\n",
    "sales_supermarkets_merged = pd.merge(sales_item_merged, supermarkets, left_on='supermarket', right_on='supermarket_No', how='left')\n"
   ]
  },
  {
   "cell_type": "code",
   "execution_count": null,
   "id": "cd289fc6",
   "metadata": {},
   "outputs": [],
   "source": [
    "# You can now explore or work with the merged datasets\n",
    "sales_supermarkets_merged.head(2)"
   ]
  },
  {
   "cell_type": "code",
   "execution_count": null,
   "id": "727649c0",
   "metadata": {},
   "outputs": [],
   "source": [
    "print(sales_supermarkets_merged.columns)"
   ]
  },
  {
   "cell_type": "code",
   "execution_count": null,
   "id": "e69fc5a9",
   "metadata": {},
   "outputs": [],
   "source": [
    "sales_supermarkets_merged.shape"
   ]
  },
  {
   "cell_type": "code",
   "execution_count": null,
   "id": "960d145f",
   "metadata": {},
   "outputs": [],
   "source": [
    "#check null value\n",
    "sales_supermarkets_merged.sum()"
   ]
  },
  {
   "cell_type": "code",
   "execution_count": null,
   "id": "e3026805",
   "metadata": {},
   "outputs": [],
   "source": []
  },
  {
   "cell_type": "markdown",
   "id": "c2460300",
   "metadata": {},
   "source": [
    "# Business Insights"
   ]
  },
  {
   "cell_type": "markdown",
   "id": "32272117",
   "metadata": {},
   "source": [
    "**Insight 1: Sales Distribution by Item Type**"
   ]
  },
  {
   "cell_type": "code",
   "execution_count": null,
   "id": "2967e397",
   "metadata": {},
   "outputs": [],
   "source": [
    "import warnings\n",
    "warnings.filterwarnings(\"ignore\", category=FutureWarning)"
   ]
  },
  {
   "cell_type": "code",
   "execution_count": null,
   "id": "90b1fb8a",
   "metadata": {},
   "outputs": [],
   "source": [
    "import matplotlib.pyplot as plt\n",
    "import seaborn as sns\n",
    "\n",
    "# Sales distribution by item type\n",
    "plt.figure(figsize=(10, 6))\n",
    "sns.countplot(data=sales_supermarkets_merged, x='type', order=sales_supermarkets_merged['type'].value_counts().index)\n",
    "plt.title('Sales Distribution by Item Type')\n",
    "plt.xlabel('Item Type')\n",
    "plt.ylabel('Number of Sales')\n",
    "plt.show()"
   ]
  },
  {
   "cell_type": "markdown",
   "id": "e0dd8e85",
   "metadata": {},
   "source": [
    "The chart shows how many items of each type are being sold. \n",
    "\n",
    "This helps businesses understand which item types are popular and which are not, helping plan stock and promotions better."
   ]
  },
  {
   "cell_type": "code",
   "execution_count": null,
   "id": "7c2de5a3",
   "metadata": {},
   "outputs": [],
   "source": []
  },
  {
   "cell_type": "markdown",
   "id": "b2e94753",
   "metadata": {},
   "source": [
    "**Insight 2: Sales Trends over Time**"
   ]
  },
  {
   "cell_type": "code",
   "execution_count": null,
   "id": "18759d7c",
   "metadata": {},
   "outputs": [],
   "source": [
    "# Group by time and sum up the sales amount\n",
    "sales_trends = sales_supermarkets_merged.groupby('time')['amount'].sum().reset_index()\n",
    "\n",
    "# Plot sales trends over time\n",
    "plt.figure(figsize=(10, 6))\n",
    "plt.plot(sales_trends['time'], sales_trends['amount'], marker='o', linestyle='-')\n",
    "plt.title('Sales Trends Over Time')\n",
    "plt.xlabel('Time')\n",
    "plt.ylabel('Total Sales Amount')\n",
    "plt.grid(True)\n",
    "plt.show()\n"
   ]
  },
  {
   "cell_type": "markdown",
   "id": "16194914",
   "metadata": {},
   "source": [
    "This line graph shows the total sales over time, helping identify when sales are high or low. \n",
    "\n",
    "It can be used to spot seasonal trends or the impact of promotions on sales growth."
   ]
  },
  {
   "cell_type": "code",
   "execution_count": null,
   "id": "65337abe",
   "metadata": {},
   "outputs": [],
   "source": []
  },
  {
   "cell_type": "markdown",
   "id": "b6369ba8",
   "metadata": {},
   "source": [
    "**Insight 3: Top Selling Brands**"
   ]
  },
  {
   "cell_type": "code",
   "execution_count": null,
   "id": "8106fa2b",
   "metadata": {},
   "outputs": [],
   "source": [
    "top_brands = sales_supermarkets_merged.groupby('brand')['amount'].sum().reset_index().sort_values(by='amount', ascending=False)\n",
    "sns.barplot(x='amount', y='brand', data=top_brands.head(10))\n",
    "plt.title('Top 10 Selling Brands')\n",
    "plt.show()\n"
   ]
  },
  {
   "cell_type": "markdown",
   "id": "79da0aae",
   "metadata": {},
   "source": [
    "Identifying the brands that generate the most sales helps businesses focus on stocking and promoting popular brands.\n",
    "\n",
    "\n",
    "Insight: Some brands consistently outperform others, indicating customer preference. Prioritize these brands for better sales."
   ]
  },
  {
   "cell_type": "code",
   "execution_count": null,
   "id": "b42b7761",
   "metadata": {},
   "outputs": [],
   "source": []
  },
  {
   "cell_type": "markdown",
   "id": "daa906de",
   "metadata": {},
   "source": [
    "**Insight 4: Sales by Province**"
   ]
  },
  {
   "cell_type": "code",
   "execution_count": null,
   "id": "bbcb5171",
   "metadata": {},
   "outputs": [],
   "source": [
    "province_sales = sales_supermarkets_merged.groupby('province')['amount'].sum().reset_index()\n",
    "sns.barplot(x='province', y='amount', data=province_sales)\n",
    "plt.title('Total Sales by Province')\n",
    "plt.show()\n"
   ]
  },
  {
   "cell_type": "markdown",
   "id": "dee7fabe",
   "metadata": {},
   "source": [
    "Understanding which provinces contribute the most to sales helps in regional marketing efforts.\n",
    "\n",
    "Insight: Provinces with higher sales indicate key markets. Focus marketing and stock distribution in these regions."
   ]
  },
  {
   "cell_type": "code",
   "execution_count": null,
   "id": "0b3c0f26",
   "metadata": {},
   "outputs": [],
   "source": []
  },
  {
   "cell_type": "markdown",
   "id": "9e56e56a",
   "metadata": {},
   "source": [
    "**Insight 5: Voucher Usage Impact**"
   ]
  },
  {
   "cell_type": "code",
   "execution_count": null,
   "id": "4c322670",
   "metadata": {},
   "outputs": [],
   "source": [
    "voucher_usage = sales_supermarkets_merged.groupby('voucher')['amount'].mean().reset_index()\n",
    "sns.barplot(x='voucher', y='amount', data=voucher_usage)\n",
    "plt.title('Average Sales Amount with vs. without Voucher')\n",
    "plt.show()\n"
   ]
  },
  {
   "cell_type": "markdown",
   "id": "83701725",
   "metadata": {},
   "source": [
    "Analyzing how vouchers impact customer spending.\n",
    "\n",
    "Insight: Customers who use vouchers tend to spend more, suggesting voucher promotions are effective in increasing basket size."
   ]
  },
  {
   "cell_type": "code",
   "execution_count": null,
   "id": "74b629ab",
   "metadata": {},
   "outputs": [],
   "source": []
  },
  {
   "cell_type": "code",
   "execution_count": null,
   "id": "5499071d",
   "metadata": {},
   "outputs": [],
   "source": []
  },
  {
   "cell_type": "code",
   "execution_count": null,
   "id": "f63384e7",
   "metadata": {},
   "outputs": [],
   "source": []
  },
  {
   "cell_type": "code",
   "execution_count": null,
   "id": "90ac2ce5",
   "metadata": {},
   "outputs": [],
   "source": []
  },
  {
   "cell_type": "markdown",
   "id": "8155dc87",
   "metadata": {},
   "source": [
    "# Task 02"
   ]
  },
  {
   "cell_type": "markdown",
   "id": "2d860b1d",
   "metadata": {},
   "source": [
    "# Define the Maze Environment"
   ]
  },
  {
   "cell_type": "code",
   "execution_count": null,
   "id": "cb1efd06",
   "metadata": {},
   "outputs": [],
   "source": [
    "import numpy as np\n",
    "import random\n",
    "\n",
    "# Define the maze as a grid (0 = empty space, 1 = wall, 2 = goal)\n",
    "maze = np.array([\n",
    "    [0, 0, 0, 1, 0],\n",
    "    [1, 0, 1, 1, 0],\n",
    "    [0, 0, 0, 1, 0],\n",
    "    [0, 1, 0, 0, 0],\n",
    "    [0, 0, 0, 1, 2]  \n",
    "])\n",
    "\n",
    "# Define possible actions (up, down, left, right)\n",
    "actions = ['up', 'down', 'left', 'right']\n",
    "\n",
    "# Reward system: 1 point for reaching the goal, -1 for hitting a wall\n",
    "def get_reward(state):\n",
    "    x, y = state\n",
    "    if maze[x, y] == 1:\n",
    "        return -1  # Wall\n",
    "    elif maze[x, y] == 2:\n",
    "        return 1   # Goal\n",
    "    else:\n",
    "        return 0   # Empty space\n"
   ]
  },
  {
   "cell_type": "code",
   "execution_count": null,
   "id": "5dddc3c7",
   "metadata": {},
   "outputs": [],
   "source": []
  },
  {
   "cell_type": "markdown",
   "id": "e2f83061",
   "metadata": {},
   "source": [
    "# Define the Q-learning Algorithm"
   ]
  },
  {
   "cell_type": "markdown",
   "id": "ad421c7a",
   "metadata": {},
   "source": [
    "The agent will learn over time by updating its Q-values "
   ]
  },
  {
   "cell_type": "code",
   "execution_count": null,
   "id": "68799ea5",
   "metadata": {},
   "outputs": [],
   "source": [
    "# Initialize Q-table with zeros (state-action table)\n",
    "q_table = np.zeros((5, 5, len(actions)))\n",
    "\n",
    "# Learning parameters\n",
    "learning_rate = 0.8\n",
    "discount_factor = 0.95\n",
    "epsilon = 0.9  # Exploration rate\n",
    "\n",
    "# Function to choose the next action (exploration vs. exploitation)\n",
    "def choose_action(state):\n",
    "    if random.uniform(0, 1) < epsilon:  # Explore\n",
    "        return random.choice(actions)\n",
    "    else:  # Exploit\n",
    "        x, y = state\n",
    "        return actions[np.argmax(q_table[x, y])]  # Best action based on Q-table\n",
    "\n",
    "# Function to take action and move\n",
    "def take_action(state, action):\n",
    "    x, y = state\n",
    "    if action == 'up' and x > 0:\n",
    "        return (x - 1, y)\n",
    "    elif action == 'down' and x < 4:\n",
    "        return (x + 1, y)\n",
    "    elif action == 'left' and y > 0:\n",
    "        return (x, y - 1)\n",
    "    elif action == 'right' and y < 4:\n",
    "        return (x, y + 1)\n",
    "    return state  # If the action hits the boundary, stay in place\n"
   ]
  },
  {
   "cell_type": "code",
   "execution_count": null,
   "id": "8d3bd7e4",
   "metadata": {},
   "outputs": [],
   "source": []
  },
  {
   "cell_type": "markdown",
   "id": "d25a5c9c",
   "metadata": {},
   "source": [
    "# Train the Agent"
   ]
  },
  {
   "cell_type": "markdown",
   "id": "1deccac4",
   "metadata": {},
   "source": [
    "The agent will explore the maze, learn the rewards, and improve over many episodes (trials)."
   ]
  },
  {
   "cell_type": "code",
   "execution_count": null,
   "id": "285ea534",
   "metadata": {},
   "outputs": [],
   "source": [
    "# Train the agent for 1000 episodes\n",
    "for episode in range(1000):\n",
    "    # Reset agent position at the start of each episode\n",
    "    state = (0, 0)  # Start at top-left corner\n",
    "    \n",
    "    for _ in range(50):  # Limit steps per episode\n",
    "        action = choose_action(state)\n",
    "        next_state = take_action(state, action)\n",
    "        \n",
    "        # Get reward for the next state\n",
    "        reward = get_reward(next_state)\n",
    "        \n",
    "        # Update Q-value using Q-learning formula\n",
    "        x, y = state\n",
    "        next_x, next_y = next_state\n",
    "        q_table[x, y, actions.index(action)] = q_table[x, y, actions.index(action)] + learning_rate * (\n",
    "            reward + discount_factor * np.max(q_table[next_x, next_y]) - q_table[x, y, actions.index(action)]\n",
    "        )\n",
    "        \n",
    "        # Move to the next state\n",
    "        state = next_state\n",
    "        \n",
    "        # If goal is reached, break out of the loop\n",
    "        if reward == 1:\n",
    "            break\n"
   ]
  },
  {
   "cell_type": "code",
   "execution_count": null,
   "id": "e3d87676",
   "metadata": {},
   "outputs": [],
   "source": []
  },
  {
   "cell_type": "markdown",
   "id": "d642b58d",
   "metadata": {},
   "source": [
    "# Test the Agent"
   ]
  },
  {
   "cell_type": "markdown",
   "id": "52a45a27",
   "metadata": {},
   "source": [
    "After training, test how well the agent navigates the maze."
   ]
  },
  {
   "cell_type": "code",
   "execution_count": null,
   "id": "c57c1b1e",
   "metadata": {},
   "outputs": [],
   "source": [
    "# Test the trained agent\n",
    "state = (0, 0)  # Start position\n",
    "steps = 0\n",
    "while state != (4, 4):  # Goal position\n",
    "    action = choose_action(state)\n",
    "    state = take_action(state, action)\n",
    "    steps += 1\n",
    "    print(f\"Step {steps}: Agent moves {action}, new state: {state}\")\n",
    "\n",
    "print(f\"Goal reached in {steps} steps!\")\n"
   ]
  },
  {
   "cell_type": "code",
   "execution_count": null,
   "id": "df452abe",
   "metadata": {},
   "outputs": [],
   "source": []
  },
  {
   "cell_type": "code",
   "execution_count": null,
   "id": "9f49395e",
   "metadata": {},
   "outputs": [],
   "source": []
  },
  {
   "cell_type": "code",
   "execution_count": null,
   "id": "f1f97c35",
   "metadata": {},
   "outputs": [],
   "source": []
  },
  {
   "cell_type": "markdown",
   "id": "1fd7caba",
   "metadata": {},
   "source": [
    "# task 01 continue..... Business Insights using ML "
   ]
  },
  {
   "cell_type": "markdown",
   "id": "8d2d8149",
   "metadata": {},
   "source": [
    "we use  a Linear Regression model to predict sales amounts based on certain features in dataset.\n",
    "\n",
    "This type of analysis can help in understanding factors influencing sales and generating actionable insights.\n",
    "\n"
   ]
  },
  {
   "cell_type": "code",
   "execution_count": null,
   "id": "396ba751",
   "metadata": {},
   "outputs": [],
   "source": [
    "import pandas as pd\n",
    "import numpy as np\n",
    "from sklearn.model_selection import train_test_split\n",
    "from sklearn.linear_model import LinearRegression\n",
    "from sklearn.metrics import mean_squared_error, r2_score\n",
    "from sklearn.preprocessing import OneHotEncoder\n",
    "\n",
    "# Load the merged sales dataset\n",
    "sales_data = sales_supermarkets_merged  \n",
    "\n",
    "# Step 1: Prepare the data\n",
    "# Select relevant features\n",
    "features = sales_data[['units', 'type', 'supermarket']]\n",
    "target = sales_data['amount']\n",
    "\n",
    "# Step 2: One-hot encode categorical variables\n",
    "features_encoded = pd.get_dummies(features, columns=['type', 'supermarket'], drop_first=True)\n",
    "\n",
    "# Step 3: Split the data into training and testing sets\n",
    "X_train, X_test, y_train, y_test = train_test_split(features_encoded, target, test_size=0.2, random_state=42)\n",
    "\n",
    "# Step 4: Train the model\n",
    "model = LinearRegression()\n",
    "model.fit(X_train, y_train)\n",
    "\n",
    "# Step 5: Make predictions\n",
    "predictions = model.predict(X_test)\n",
    "\n",
    "# Step 6: Evaluate the model\n",
    "mse = mean_squared_error(y_test, predictions)\n",
    "r2 = r2_score(y_test, predictions)\n",
    "\n",
    "print(f'Mean Squared Error: {mse}')\n",
    "print(f'R^2 Score: {r2}')\n",
    "\n",
    "# Step 7: Feature importance (coefficients)\n",
    "coefficients = pd.DataFrame(model.coef_, features_encoded.columns, columns=['Coefficient'])\n",
    "print(coefficients)\n",
    "\n",
    "# Optional: Visualize predictions vs actual values\n",
    "import matplotlib.pyplot as plt\n",
    "\n",
    "plt.figure(figsize=(10, 6))\n",
    "plt.scatter(y_test, predictions)\n",
    "plt.xlabel('Actual Sales Amount')\n",
    "plt.ylabel('Predicted Sales Amount')\n",
    "plt.title('Actual vs Predicted Sales Amount')\n",
    "plt.plot([0, max(y_test)], [0, max(y_test)], color='red', linestyle='--')  # Diagonal line\n",
    "plt.show()\n"
   ]
  },
  {
   "cell_type": "markdown",
   "id": "2eb9a370",
   "metadata": {},
   "source": [
    "**Output Summary**\n",
    "\n",
    "MSE : 172.650\n",
    "\n",
    "This number shows how far off the model's predictions are from the actual sales on average. \n",
    "\n",
    "R2 Score : 0.0029\n",
    "\n",
    "This score indicates that the model explains only about 0.29% of the variability in sales. This suggests the model isn't very effective at predicting sales.\n",
    "\n",
    "\n",
    "Coefficients :\n",
    "\n",
    "Units Sold: Each additional unit sold increases sales by about $0.94.\n",
    "\n",
    "Type 2 Item: Being of Type 2 reduces sales by about $0.80 compared to the baseline type.\n",
    "\n",
    "Supermarkets: Each supermarket has its own effect on sales, showing how much more or less they sell.\n"
   ]
  },
  {
   "cell_type": "code",
   "execution_count": null,
   "id": "801c4b1f",
   "metadata": {},
   "outputs": [],
   "source": []
  },
  {
   "cell_type": "code",
   "execution_count": null,
   "id": "91380d46",
   "metadata": {},
   "outputs": [],
   "source": []
  }
 ],
 "metadata": {
  "kernelspec": {
   "display_name": "Python 3 (ipykernel)",
   "language": "python",
   "name": "python3"
  },
  "language_info": {
   "codemirror_mode": {
    "name": "ipython",
    "version": 3
   },
   "file_extension": ".py",
   "mimetype": "text/x-python",
   "name": "python",
   "nbconvert_exporter": "python",
   "pygments_lexer": "ipython3",
   "version": "3.11.5"
  }
 },
 "nbformat": 4,
 "nbformat_minor": 5
}
